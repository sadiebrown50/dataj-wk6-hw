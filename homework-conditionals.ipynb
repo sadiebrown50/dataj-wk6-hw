{
 "cells": [
  {
   "cell_type": "code",
   "execution_count": 1,
   "id": "28742fb5",
   "metadata": {},
   "outputs": [],
   "source": [
    "## This is my homework for week 6"
   ]
  },
  {
   "cell_type": "code",
   "execution_count": 9,
   "id": "19892624",
   "metadata": {},
   "outputs": [
    {
     "name": "stdout",
     "output_type": "stream",
     "text": [
      "x is larger than y\n"
     ]
    }
   ],
   "source": [
    "## Question 1\n",
    "## write a conditional expression that compares x and y and \n",
    "## prints \"x is larger than y\" if x is larger than y or\n",
    "## prints \"x is smaller than y\" if x is smaller than y\n",
    "\n",
    "x = 10\n",
    "y = 5\n",
    "\n",
    "if x > y:\n",
    "    print (\"x is larger than y\")\n",
    "elif y > x:\n",
    "    print (\"x is smaller than y\")\n",
    "else:\n",
    "    print (\"x is equal to y\")"
   ]
  },
  {
   "cell_type": "code",
   "execution_count": 10,
   "id": "1f5ca3c6",
   "metadata": {},
   "outputs": [
    {
     "name": "stdout",
     "output_type": "stream",
     "text": [
      "6\n",
      "11\n",
      "16\n",
      "21\n",
      "26\n"
     ]
    }
   ],
   "source": [
    "## Question 2\n",
    "## write a for loop that prints the values in this list but increases each number by 5\n",
    "\n",
    "numbers = [1, 6, 11, 16, 21]\n",
    "\n",
    "for number in numbers:\n",
    "    new_number = number + 5\n",
    "    print(new_number)\n"
   ]
  },
  {
   "cell_type": "code",
   "execution_count": 7,
   "id": "4d3d826d",
   "metadata": {},
   "outputs": [],
   "source": [
    "## Question 3\n",
    "## add these two numbers together and round to 2 decimal places\n",
    "\n",
    "number_1 = 42.569783\n",
    "number_2 = 101.668342"
   ]
  },
  {
   "cell_type": "code",
   "execution_count": null,
   "id": "5ed057b0",
   "metadata": {},
   "outputs": [],
   "source": []
  }
 ],
 "metadata": {
  "kernelspec": {
   "display_name": "Python 3 (ipykernel)",
   "language": "python",
   "name": "python3"
  },
  "language_info": {
   "codemirror_mode": {
    "name": "ipython",
    "version": 3
   },
   "file_extension": ".py",
   "mimetype": "text/x-python",
   "name": "python",
   "nbconvert_exporter": "python",
   "pygments_lexer": "ipython3",
   "version": "3.9.7"
  }
 },
 "nbformat": 4,
 "nbformat_minor": 5
}
