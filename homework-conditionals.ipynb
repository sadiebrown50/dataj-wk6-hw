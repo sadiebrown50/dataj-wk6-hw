{
 "cells": [
  {
   "cell_type": "code",
   "execution_count": 1,
   "id": "375f11e8",
   "metadata": {},
   "outputs": [],
   "source": [
    "## This is my homework for week 6"
   ]
  },
  {
   "cell_type": "code",
   "execution_count": 5,
   "id": "e884cd9d",
   "metadata": {},
   "outputs": [],
   "source": [
    "## Question 1\n",
    "## write a conditional expression that compares x and y and \n",
    "## prints \"x is larger than y\" if x is larger than y or\n",
    "## prints \"x is smaller than y\" if x is smaller than y\n",
    "\n",
    "x = 10\n",
    "y = 5\n"
   ]
  },
  {
   "cell_type": "code",
   "execution_count": 8,
   "id": "c3db1351",
   "metadata": {},
   "outputs": [],
   "source": [
    "## Question 2\n",
    "## write a for loop that prints the values in this list but increases each number by 5\n",
    "\n",
    "numbers = [1, 6, 11, 16, 21]"
   ]
  },
  {
   "cell_type": "code",
   "execution_count": 7,
   "id": "c0e60ea5",
   "metadata": {},
   "outputs": [],
   "source": [
    "## Question 3\n",
    "## add these two numbers together and round to 2 decimal places\n",
    "\n",
    "number_1 = 42.569783\n",
    "number_2 = 101.668342"
   ]
  },
  {
   "cell_type": "code",
   "execution_count": null,
   "id": "1c6433af",
   "metadata": {},
   "outputs": [],
   "source": []
  }
 ],
 "metadata": {
  "kernelspec": {
   "display_name": "Python 3 (ipykernel)",
   "language": "python",
   "name": "python3"
  },
  "language_info": {
   "codemirror_mode": {
    "name": "ipython",
    "version": 3
   },
   "file_extension": ".py",
   "mimetype": "text/x-python",
   "name": "python",
   "nbconvert_exporter": "python",
   "pygments_lexer": "ipython3",
   "version": "3.9.7"
  }
 },
 "nbformat": 4,
 "nbformat_minor": 5
}
