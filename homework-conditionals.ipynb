{
 "cells": [
  {
   "cell_type": "code",
   "execution_count": 1,
   "id": "3ecb8c4a",
   "metadata": {},
   "outputs": [],
   "source": [
    "## This is my homework for week 6"
   ]
  },
  {
   "cell_type": "code",
   "execution_count": 9,
   "id": "004ead55",
   "metadata": {},
   "outputs": [
    {
     "name": "stdout",
     "output_type": "stream",
     "text": [
      "x is larger than y\n"
     ]
    }
   ],
   "source": [
    "## Question 1\n",
    "## write a conditional expression that compares x and y and \n",
    "## prints \"x is larger than y\" if x is larger than y or\n",
    "## prints \"x is smaller than y\" if x is smaller than y\n",
    "\n",
    "x = 10\n",
    "y = 5\n",
    "\n",
    "if x > y:\n",
    "    print (\"x is larger than y\")\n",
    "elif y > x:\n",
    "    print (\"x is smaller than y\")\n",
    "else:\n",
    "    print (\"x is equal to y\")"
   ]
  },
  {
   "cell_type": "code",
   "execution_count": 10,
   "id": "34c1bfc5",
   "metadata": {},
   "outputs": [
    {
     "name": "stdout",
     "output_type": "stream",
     "text": [
      "6\n",
      "11\n",
      "16\n",
      "21\n",
      "26\n"
     ]
    }
   ],
   "source": [
    "## Question 2\n",
    "## write a for loop that prints the values in this list but increases each number by 5\n",
    "\n",
    "numbers = [1, 6, 11, 16, 21]\n",
    "\n",
    "for number in numbers:\n",
    "    new_number = number + 5\n",
    "    print(new_number)\n"
   ]
  },
  {
   "cell_type": "code",
   "execution_count": 23,
   "id": "2dfabc50",
   "metadata": {},
   "outputs": [
    {
     "name": "stderr",
     "output_type": "stream",
     "text": [
      "<>:7: SyntaxWarning: 'int' object is not callable; perhaps you missed a comma?\n",
      "<>:7: SyntaxWarning: 'int' object is not callable; perhaps you missed a comma?\n",
      "/var/folders/pk/h683hh6n623c29s3jld048240000gn/T/ipykernel_13464/2654067989.py:7: SyntaxWarning: 'int' object is not callable; perhaps you missed a comma?\n",
      "  round ,2(number_1 + number_2)\n"
     ]
    },
    {
     "ename": "TypeError",
     "evalue": "'int' object is not callable",
     "output_type": "error",
     "traceback": [
      "\u001b[0;31m---------------------------------------------------------------------------\u001b[0m",
      "\u001b[0;31mTypeError\u001b[0m                                 Traceback (most recent call last)",
      "\u001b[0;32m/var/folders/pk/h683hh6n623c29s3jld048240000gn/T/ipykernel_13464/2654067989.py\u001b[0m in \u001b[0;36m<module>\u001b[0;34m\u001b[0m\n\u001b[1;32m      5\u001b[0m \u001b[0mnumber_2\u001b[0m \u001b[0;34m=\u001b[0m \u001b[0;36m101.668342\u001b[0m\u001b[0;34m\u001b[0m\u001b[0;34m\u001b[0m\u001b[0m\n\u001b[1;32m      6\u001b[0m \u001b[0;34m\u001b[0m\u001b[0m\n\u001b[0;32m----> 7\u001b[0;31m \u001b[0mround\u001b[0m \u001b[0;34m,\u001b[0m\u001b[0;36m2\u001b[0m\u001b[0;34m(\u001b[0m\u001b[0mnumber_1\u001b[0m \u001b[0;34m+\u001b[0m \u001b[0mnumber_2\u001b[0m\u001b[0;34m)\u001b[0m\u001b[0;34m\u001b[0m\u001b[0;34m\u001b[0m\u001b[0m\n\u001b[0m",
      "\u001b[0;31mTypeError\u001b[0m: 'int' object is not callable"
     ]
    }
   ],
   "source": [
    "## Question 3\n",
    "## add these two numbers together and round to 2 decimal places\n",
    "\n",
    "number_1 = 42.569783\n",
    "number_2 = 101.668342\n",
    "\n",
    "round ,2(number_1 + number_2)"
   ]
  },
  {
   "cell_type": "code",
   "execution_count": 25,
   "id": "c22c901e",
   "metadata": {},
   "outputs": [
    {
     "data": {
      "text/plain": [
       "144.24"
      ]
     },
     "execution_count": 25,
     "metadata": {},
     "output_type": "execute_result"
    }
   ],
   "source": [
    "round ((number_1 + number_2),2)"
   ]
  },
  {
   "cell_type": "code",
   "execution_count": null,
   "id": "bb24c019",
   "metadata": {},
   "outputs": [],
   "source": []
  }
 ],
 "metadata": {
  "kernelspec": {
   "display_name": "Python 3 (ipykernel)",
   "language": "python",
   "name": "python3"
  },
  "language_info": {
   "codemirror_mode": {
    "name": "ipython",
    "version": 3
   },
   "file_extension": ".py",
   "mimetype": "text/x-python",
   "name": "python",
   "nbconvert_exporter": "python",
   "pygments_lexer": "ipython3",
   "version": "3.9.7"
  }
 },
 "nbformat": 4,
 "nbformat_minor": 5
}
